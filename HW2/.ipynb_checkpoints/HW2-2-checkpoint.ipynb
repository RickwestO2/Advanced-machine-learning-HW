{
 "cells": [
  {
   "cell_type": "code",
   "execution_count": 22,
   "id": "855801ff",
   "metadata": {},
   "outputs": [
    {
     "name": "stdout",
     "output_type": "stream",
     "text": [
      "對 w11 的梯度: tensor(0.0782)\n",
      "對 a00 的梯度: tensor(-0.0146)\n"
     ]
    },
    {
     "name": "stderr",
     "output_type": "stream",
     "text": [
      "C:\\Users\\gg750\\AppData\\Local\\Temp\\ipykernel_7856\\598406266.py:14: UserWarning: Using a target size (torch.Size([1])) that is different to the input size (torch.Size([])). This will likely lead to incorrect results due to broadcasting. Please ensure they have the same size.\n",
      "  loss = F.mse_loss(pred, y)  # 計算均方誤差（MSE）損失\n"
     ]
    }
   ],
   "source": [
    "import torch\n",
    "import torch.nn.functional as F\n",
    "\n",
    "# 定義輸入特徵圖、kernel和label\n",
    "a = torch.randn(1, 1, 4, 4, requires_grad=True)  # 輸入特徵圖\n",
    "w = torch.randn(1, 1, 3, 3, requires_grad=True)  # convolution kernel\n",
    "y = torch.randn(1) # label\n",
    "\n",
    "# Forward pass\n",
    "o = F.conv2d(a, w)  # 卷積運算\n",
    "o = torch.sigmoid(o)  # sigmoid 激活函數\n",
    "o = o.view(-1)  # flatten\n",
    "pred = o.sum()  # 回歸結果，取所有元素的總和\n",
    "loss = F.mse_loss(pred, y)  # 計算均方誤差（MSE）損失\n",
    "\n",
    "# Backward pass\n",
    "loss.backward()\n",
    "\n",
    "# 梯度\n",
    "grad_w11 = w.grad[0, 0, 1, 1]  # 對 w11 的梯度\n",
    "grad_a00 = a.grad[0, 0, 0, 0]  # 對 a00 的梯度\n",
    "\n",
    "print('對 w11 的梯度:', grad_w11)\n",
    "print('對 a00 的梯度:', grad_a00)\n"
   ]
  },
  {
   "cell_type": "code",
   "execution_count": null,
   "id": "4312b849",
   "metadata": {},
   "outputs": [],
   "source": []
  },
  {
   "cell_type": "code",
   "execution_count": null,
   "id": "b3540df7",
   "metadata": {},
   "outputs": [],
   "source": []
  }
 ],
 "metadata": {
  "kernelspec": {
   "display_name": "Python 3 (ipykernel)",
   "language": "python",
   "name": "python3"
  },
  "language_info": {
   "codemirror_mode": {
    "name": "ipython",
    "version": 3
   },
   "file_extension": ".py",
   "mimetype": "text/x-python",
   "name": "python",
   "nbconvert_exporter": "python",
   "pygments_lexer": "ipython3",
   "version": "3.11.4"
  }
 },
 "nbformat": 4,
 "nbformat_minor": 5
}
