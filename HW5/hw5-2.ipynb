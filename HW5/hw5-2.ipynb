{
 "cells": [
  {
   "cell_type": "markdown",
   "id": "9b2b55aa",
   "metadata": {},
   "source": [
    "## (二) Use Chroma database to implement a small simple QA system."
   ]
  },
  {
   "cell_type": "code",
   "execution_count": 1,
   "id": "b776169c",
   "metadata": {},
   "outputs": [],
   "source": [
    "# %pip install -Uq chromadb numpy datasets"
   ]
  },
  {
   "cell_type": "code",
   "execution_count": 2,
   "id": "616b6b2b",
   "metadata": {},
   "outputs": [
    {
     "name": "stdout",
     "output_type": "stream",
     "text": [
      "Number of questions with support:  10481\n"
     ]
    }
   ],
   "source": [
    "# Get the SciQ dataset from HuggingFace\n",
    "from datasets import load_dataset\n",
    "\n",
    "dataset = load_dataset(\"sciq\", split=\"train\")\n",
    "\n",
    "# Filter the dataset to only include questions with a support\n",
    "dataset = dataset.filter(lambda x: x[\"support\"] != \"\")\n",
    "\n",
    "print(\"Number of questions with support: \", len(dataset))"
   ]
  },
  {
   "cell_type": "code",
   "execution_count": 3,
   "id": "32cc7704",
   "metadata": {},
   "outputs": [],
   "source": [
    "# Import Chroma and instantiate a client. The default Chroma client is ephemeral, meaning it will not save to disk.\n",
    "import chromadb\n",
    "client = chromadb.Client()"
   ]
  },
  {
   "cell_type": "code",
   "execution_count": 4,
   "id": "8fb2c640",
   "metadata": {},
   "outputs": [],
   "source": [
    "# Create a new Chroma collection to store the supporting evidence. We don't need to specify an embedding fuction, and the default will be used.\n",
    "collection = client.create_collection(\"sciq_supports\")"
   ]
  },
  {
   "cell_type": "code",
   "execution_count": 5,
   "id": "46a9fd0f",
   "metadata": {},
   "outputs": [],
   "source": [
    "# Embed and store the first 100 supports for this demo\n",
    "collection.add(\n",
    "    ids=[str(i) for i in range(0, 100)],  # IDs are just strings\n",
    "    documents=dataset[\"support\"][:100],\n",
    "    metadatas=[{\"type\": \"support\"} for _ in range(0, 100)\n",
    "    ],\n",
    ")"
   ]
  },
  {
   "cell_type": "code",
   "execution_count": null,
   "id": "5b51905e",
   "metadata": {},
   "outputs": [],
   "source": []
  },
  {
   "cell_type": "code",
   "execution_count": 6,
   "id": "74692ff2",
   "metadata": {
    "scrolled": true
   },
   "outputs": [
    {
     "name": "stdout",
     "output_type": "stream",
     "text": [
      "Question: What is the least dangerous radioactive decay?\n",
      "\n",
      "Thinking...\n",
      "\n",
      "-----\n"
     ]
    }
   ],
   "source": [
    "# 獲取使用者的查詢 #\"Question: What is the least dangerous radioactive decay?\n",
    "query = input(\"Question: \")\n",
    "\n",
    "# 檢查是否為空查詢\n",
    "if len(query) == 0:\n",
    "    print(\"Please enter a question. Ctrl+C to Quit.\\n\")\n",
    "    \n",
    "# 處理問題...\n",
    "print(f\"\\nThinking...\\n\")\n",
    "\n",
    "# 印出問題和相應的資料\n",
    "print(\"-----\")"
   ]
  },
  {
   "cell_type": "code",
   "execution_count": 7,
   "id": "54e37bf9",
   "metadata": {},
   "outputs": [
    {
     "name": "stdout",
     "output_type": "stream",
     "text": [
      "Response 1 :\n",
      "All radioactive decay is dangerous to living things, but alpha decay is the least dangerous.\n",
      "-----\n"
     ]
    }
   ],
   "source": [
    "# 從資料集中查詢相應的文件\n",
    "results = collection.query(\n",
    "query_texts=[query], n_results=1, include=[\"documents\", \"metadatas\"])\n",
    "\n",
    "for i, R in enumerate(results['documents'][0], 1):\n",
    "    print(\"Response\", i, \":\")\n",
    "    print(R)\n",
    "    print(\"-----\")"
   ]
  },
  {
   "cell_type": "code",
   "execution_count": null,
   "id": "1ea540bb",
   "metadata": {},
   "outputs": [],
   "source": []
  },
  {
   "cell_type": "code",
   "execution_count": null,
   "id": "e0617012",
   "metadata": {},
   "outputs": [],
   "source": []
  }
 ],
 "metadata": {
  "kernelspec": {
   "display_name": "Python 3 (ipykernel)",
   "language": "python",
   "name": "python3"
  },
  "language_info": {
   "codemirror_mode": {
    "name": "ipython",
    "version": 3
   },
   "file_extension": ".py",
   "mimetype": "text/x-python",
   "name": "python",
   "nbconvert_exporter": "python",
   "pygments_lexer": "ipython3",
   "version": "3.11.4"
  }
 },
 "nbformat": 4,
 "nbformat_minor": 5
}
